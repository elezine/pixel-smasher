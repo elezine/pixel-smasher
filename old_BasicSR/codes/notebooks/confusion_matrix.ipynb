{
 "cells": [
  {
   "cell_type": "markdown",
   "metadata": {},
   "source": [
    "## 2021: confusion matrix for reviewers\n",
    "Inputs: csv files output from classifier.py\n",
    "Outputs: a few small csv files with confusion matrices, as well as printouts\n",
    "Note: Actual confusion matrix is calculated in Excel spreadsheet on local: confusion_x10_local-masked_400000_updated.xlsx\n"
   ]
  },
  {
   "cell_type": "code",
   "execution_count": 1,
   "metadata": {},
   "outputs": [],
   "source": [
    "# imports\n",
    "import pandas as pd\n",
    "import sklearn.metrics as metrics\n",
    "import numpy as np\n",
    "import matplotlib.pyplot as plt\n",
    "import os\n",
    "import seaborn as sns\n",
    "\n",
    "# display options\n",
    "pd.options.display.max_columns = 60"
   ]
  },
  {
   "cell_type": "code",
   "execution_count": 142,
   "metadata": {},
   "outputs": [
    {
     "data": {
      "text/plain": [
       "(8520, 24)"
      ]
     },
     "execution_count": 142,
     "metadata": {},
     "output_type": "execute_result"
    }
   ],
   "source": [
    "## IO\n",
    "# csv='/home/ethan_kyzivat/code/pixel-smasher/2021_classification_stats_x10_local-masked_400000_ir_global_thresh.csv' # on remote\n",
    "csv='/mnt/g/Planet/project_data/2021/2021_classification_stats_x10_local-masked_400000_ir_global_thresh.csv' # on local\n",
    "res='Bic'\n",
    "\n",
    "plots_dir='/mnt/g/Planet/project_data/2021/figs'\n",
    "\n",
    "\n",
    "## filter out accuracy_p == 0\n",
    "# df = df[~np.isnan(df.accuracy_p)] ## see unweighted part\n",
    "                 \n",
    "## display\n",
    "df=pd.read_csv(csv)\n",
    "df.shape"
   ]
  },
  {
   "cell_type": "code",
   "execution_count": 3,
   "metadata": {},
   "outputs": [
    {
     "data": {
      "text/html": [
       "<div>\n",
       "<style scoped>\n",
       "    .dataframe tbody tr th:only-of-type {\n",
       "        vertical-align: middle;\n",
       "    }\n",
       "\n",
       "    .dataframe tbody tr th {\n",
       "        vertical-align: top;\n",
       "    }\n",
       "\n",
       "    .dataframe thead th {\n",
       "        text-align: right;\n",
       "    }\n",
       "</style>\n",
       "<table border=\"1\" class=\"dataframe\">\n",
       "  <thead>\n",
       "    <tr style=\"text-align: right;\">\n",
       "      <th></th>\n",
       "      <th>Unnamed: 0</th>\n",
       "      <th>num</th>\n",
       "      <th>thresh</th>\n",
       "      <th>percent_water</th>\n",
       "      <th>mean_ndwi</th>\n",
       "      <th>median_ndwi</th>\n",
       "      <th>accuracy</th>\n",
       "      <th>accuracy_p</th>\n",
       "      <th>kappa</th>\n",
       "      <th>kappa_p</th>\n",
       "      <th>min_ndwi</th>\n",
       "      <th>max_ndwi</th>\n",
       "      <th>JI</th>\n",
       "      <th>DSC</th>\n",
       "      <th>TP</th>\n",
       "      <th>FN</th>\n",
       "      <th>FP</th>\n",
       "      <th>TN</th>\n",
       "      <th>TP_p</th>\n",
       "      <th>FN_p</th>\n",
       "      <th>FP_p</th>\n",
       "      <th>TN_p</th>\n",
       "    </tr>\n",
       "  </thead>\n",
       "  <tbody>\n",
       "    <tr>\n",
       "      <th>count</th>\n",
       "      <td>8520.0</td>\n",
       "      <td>8520.000000</td>\n",
       "      <td>8520.0</td>\n",
       "      <td>8520.000000</td>\n",
       "      <td>8520.000000</td>\n",
       "      <td>8520.00000</td>\n",
       "      <td>4260.000000</td>\n",
       "      <td>4254.000000</td>\n",
       "      <td>4254.000000</td>\n",
       "      <td>4254.000000</td>\n",
       "      <td>8520.000000</td>\n",
       "      <td>8520.000000</td>\n",
       "      <td>4260.000000</td>\n",
       "      <td>4254.000000</td>\n",
       "      <td>4260.000000</td>\n",
       "      <td>4260.000000</td>\n",
       "      <td>4260.000000</td>\n",
       "      <td>4260.000000</td>\n",
       "      <td>4260.000000</td>\n",
       "      <td>4260.000000</td>\n",
       "      <td>4260.000000</td>\n",
       "      <td>4260.000000</td>\n",
       "    </tr>\n",
       "    <tr>\n",
       "      <th>mean</th>\n",
       "      <td>0.0</td>\n",
       "      <td>1064.500000</td>\n",
       "      <td>0.0</td>\n",
       "      <td>25.093381</td>\n",
       "      <td>179.488347</td>\n",
       "      <td>197.87770</td>\n",
       "      <td>0.992060</td>\n",
       "      <td>0.500000</td>\n",
       "      <td>0.968830</td>\n",
       "      <td>0.004538</td>\n",
       "      <td>17.591197</td>\n",
       "      <td>254.094718</td>\n",
       "      <td>0.953620</td>\n",
       "      <td>0.023703</td>\n",
       "      <td>56877.698826</td>\n",
       "      <td>1005.830751</td>\n",
       "      <td>823.511737</td>\n",
       "      <td>171692.958685</td>\n",
       "      <td>604.855164</td>\n",
       "      <td>604.855164</td>\n",
       "      <td>515.098592</td>\n",
       "      <td>515.098592</td>\n",
       "    </tr>\n",
       "    <tr>\n",
       "      <th>std</th>\n",
       "      <td>0.0</td>\n",
       "      <td>614.914056</td>\n",
       "      <td>0.0</td>\n",
       "      <td>21.365034</td>\n",
       "      <td>44.878384</td>\n",
       "      <td>65.19073</td>\n",
       "      <td>0.020256</td>\n",
       "      <td>0.099311</td>\n",
       "      <td>0.048519</td>\n",
       "      <td>0.147840</td>\n",
       "      <td>13.534430</td>\n",
       "      <td>13.120356</td>\n",
       "      <td>0.057926</td>\n",
       "      <td>0.029073</td>\n",
       "      <td>49065.912291</td>\n",
       "      <td>2983.443671</td>\n",
       "      <td>2356.207596</td>\n",
       "      <td>49589.549631</td>\n",
       "      <td>2009.348918</td>\n",
       "      <td>2009.348918</td>\n",
       "      <td>1132.559844</td>\n",
       "      <td>1132.559844</td>\n",
       "    </tr>\n",
       "    <tr>\n",
       "      <th>min</th>\n",
       "      <td>0.0</td>\n",
       "      <td>0.000000</td>\n",
       "      <td>0.0</td>\n",
       "      <td>0.000000</td>\n",
       "      <td>6.350768</td>\n",
       "      <td>1.00000</td>\n",
       "      <td>0.559457</td>\n",
       "      <td>0.000217</td>\n",
       "      <td>0.005591</td>\n",
       "      <td>-0.510651</td>\n",
       "      <td>0.000000</td>\n",
       "      <td>27.000000</td>\n",
       "      <td>0.000000</td>\n",
       "      <td>0.000116</td>\n",
       "      <td>0.000000</td>\n",
       "      <td>0.000000</td>\n",
       "      <td>0.000000</td>\n",
       "      <td>264.000000</td>\n",
       "      <td>0.000000</td>\n",
       "      <td>0.000000</td>\n",
       "      <td>0.000000</td>\n",
       "      <td>0.000000</td>\n",
       "    </tr>\n",
       "    <tr>\n",
       "      <th>25%</th>\n",
       "      <td>0.0</td>\n",
       "      <td>532.000000</td>\n",
       "      <td>0.0</td>\n",
       "      <td>10.225586</td>\n",
       "      <td>164.147423</td>\n",
       "      <td>205.00000</td>\n",
       "      <td>0.991701</td>\n",
       "      <td>0.426760</td>\n",
       "      <td>0.967128</td>\n",
       "      <td>-0.105574</td>\n",
       "      <td>8.000000</td>\n",
       "      <td>255.000000</td>\n",
       "      <td>0.945380</td>\n",
       "      <td>0.010630</td>\n",
       "      <td>22689.750000</td>\n",
       "      <td>472.000000</td>\n",
       "      <td>360.000000</td>\n",
       "      <td>154157.000000</td>\n",
       "      <td>244.000000</td>\n",
       "      <td>244.000000</td>\n",
       "      <td>229.000000</td>\n",
       "      <td>229.000000</td>\n",
       "    </tr>\n",
       "    <tr>\n",
       "      <th>50%</th>\n",
       "      <td>0.0</td>\n",
       "      <td>1064.500000</td>\n",
       "      <td>0.0</td>\n",
       "      <td>18.142578</td>\n",
       "      <td>193.678285</td>\n",
       "      <td>223.00000</td>\n",
       "      <td>0.994058</td>\n",
       "      <td>0.500000</td>\n",
       "      <td>0.976820</td>\n",
       "      <td>0.000000</td>\n",
       "      <td>16.000000</td>\n",
       "      <td>255.000000</td>\n",
       "      <td>0.964400</td>\n",
       "      <td>0.018106</td>\n",
       "      <td>40849.000000</td>\n",
       "      <td>737.000000</td>\n",
       "      <td>588.500000</td>\n",
       "      <td>187823.500000</td>\n",
       "      <td>430.000000</td>\n",
       "      <td>430.000000</td>\n",
       "      <td>378.000000</td>\n",
       "      <td>378.000000</td>\n",
       "    </tr>\n",
       "    <tr>\n",
       "      <th>75%</th>\n",
       "      <td>0.0</td>\n",
       "      <td>1597.000000</td>\n",
       "      <td>0.0</td>\n",
       "      <td>32.597114</td>\n",
       "      <td>209.177797</td>\n",
       "      <td>233.00000</td>\n",
       "      <td>0.995956</td>\n",
       "      <td>0.573240</td>\n",
       "      <td>0.983528</td>\n",
       "      <td>0.115438</td>\n",
       "      <td>25.000000</td>\n",
       "      <td>255.000000</td>\n",
       "      <td>0.978919</td>\n",
       "      <td>0.028059</td>\n",
       "      <td>73851.750000</td>\n",
       "      <td>1071.000000</td>\n",
       "      <td>897.000000</td>\n",
       "      <td>206229.750000</td>\n",
       "      <td>688.000000</td>\n",
       "      <td>688.000000</td>\n",
       "      <td>581.000000</td>\n",
       "      <td>581.000000</td>\n",
       "    </tr>\n",
       "    <tr>\n",
       "      <th>max</th>\n",
       "      <td>0.0</td>\n",
       "      <td>2129.000000</td>\n",
       "      <td>0.0</td>\n",
       "      <td>99.878906</td>\n",
       "      <td>240.552080</td>\n",
       "      <td>255.00000</td>\n",
       "      <td>1.000000</td>\n",
       "      <td>0.999783</td>\n",
       "      <td>0.996202</td>\n",
       "      <td>0.693504</td>\n",
       "      <td>193.000000</td>\n",
       "      <td>255.000000</td>\n",
       "      <td>0.999769</td>\n",
       "      <td>0.717072</td>\n",
       "      <td>230042.000000</td>\n",
       "      <td>86987.000000</td>\n",
       "      <td>74443.000000</td>\n",
       "      <td>230400.000000</td>\n",
       "      <td>71180.000000</td>\n",
       "      <td>71180.000000</td>\n",
       "      <td>34744.000000</td>\n",
       "      <td>34744.000000</td>\n",
       "    </tr>\n",
       "  </tbody>\n",
       "</table>\n",
       "</div>"
      ],
      "text/plain": [
       "       Unnamed: 0          num  thresh  percent_water    mean_ndwi  \\\n",
       "count      8520.0  8520.000000  8520.0    8520.000000  8520.000000   \n",
       "mean          0.0  1064.500000     0.0      25.093381   179.488347   \n",
       "std           0.0   614.914056     0.0      21.365034    44.878384   \n",
       "min           0.0     0.000000     0.0       0.000000     6.350768   \n",
       "25%           0.0   532.000000     0.0      10.225586   164.147423   \n",
       "50%           0.0  1064.500000     0.0      18.142578   193.678285   \n",
       "75%           0.0  1597.000000     0.0      32.597114   209.177797   \n",
       "max           0.0  2129.000000     0.0      99.878906   240.552080   \n",
       "\n",
       "       median_ndwi     accuracy   accuracy_p        kappa      kappa_p  \\\n",
       "count   8520.00000  4260.000000  4254.000000  4254.000000  4254.000000   \n",
       "mean     197.87770     0.992060     0.500000     0.968830     0.004538   \n",
       "std       65.19073     0.020256     0.099311     0.048519     0.147840   \n",
       "min        1.00000     0.559457     0.000217     0.005591    -0.510651   \n",
       "25%      205.00000     0.991701     0.426760     0.967128    -0.105574   \n",
       "50%      223.00000     0.994058     0.500000     0.976820     0.000000   \n",
       "75%      233.00000     0.995956     0.573240     0.983528     0.115438   \n",
       "max      255.00000     1.000000     0.999783     0.996202     0.693504   \n",
       "\n",
       "          min_ndwi     max_ndwi           JI          DSC             TP  \\\n",
       "count  8520.000000  8520.000000  4260.000000  4254.000000    4260.000000   \n",
       "mean     17.591197   254.094718     0.953620     0.023703   56877.698826   \n",
       "std      13.534430    13.120356     0.057926     0.029073   49065.912291   \n",
       "min       0.000000    27.000000     0.000000     0.000116       0.000000   \n",
       "25%       8.000000   255.000000     0.945380     0.010630   22689.750000   \n",
       "50%      16.000000   255.000000     0.964400     0.018106   40849.000000   \n",
       "75%      25.000000   255.000000     0.978919     0.028059   73851.750000   \n",
       "max     193.000000   255.000000     0.999769     0.717072  230042.000000   \n",
       "\n",
       "                 FN            FP             TN          TP_p          FN_p  \\\n",
       "count   4260.000000   4260.000000    4260.000000   4260.000000   4260.000000   \n",
       "mean    1005.830751    823.511737  171692.958685    604.855164    604.855164   \n",
       "std     2983.443671   2356.207596   49589.549631   2009.348918   2009.348918   \n",
       "min        0.000000      0.000000     264.000000      0.000000      0.000000   \n",
       "25%      472.000000    360.000000  154157.000000    244.000000    244.000000   \n",
       "50%      737.000000    588.500000  187823.500000    430.000000    430.000000   \n",
       "75%     1071.000000    897.000000  206229.750000    688.000000    688.000000   \n",
       "max    86987.000000  74443.000000  230400.000000  71180.000000  71180.000000   \n",
       "\n",
       "               FP_p          TN_p  \n",
       "count   4260.000000   4260.000000  \n",
       "mean     515.098592    515.098592  \n",
       "std     1132.559844   1132.559844  \n",
       "min        0.000000      0.000000  \n",
       "25%      229.000000    229.000000  \n",
       "50%      378.000000    378.000000  \n",
       "75%      581.000000    581.000000  \n",
       "max    34744.000000  34744.000000  "
      ]
     },
     "execution_count": 3,
     "metadata": {},
     "output_type": "execute_result"
    }
   ],
   "source": [
    "df.describe()"
   ]
  },
  {
   "cell_type": "code",
   "execution_count": 4,
   "metadata": {},
   "outputs": [
    {
     "data": {
      "text/plain": [
       "1320619.0"
      ]
     },
     "execution_count": 4,
     "metadata": {},
     "output_type": "execute_result"
    }
   ],
   "source": [
    "df.query(\"res == @res\").sum().TN_p"
   ]
  },
  {
   "cell_type": "markdown",
   "metadata": {},
   "source": [
    "# Weighted metrics"
   ]
  },
  {
   "cell_type": "code",
   "execution_count": 22,
   "metadata": {},
   "outputs": [
    {
     "name": "stdout",
     "output_type": "stream",
     "text": [
      "\n",
      "\n",
      "Confusion matrix (weighted) for: \n",
      "Bic\n"
     ]
    },
    {
     "data": {
      "text/html": [
       "<div>\n",
       "<style scoped>\n",
       "    .dataframe tbody tr th:only-of-type {\n",
       "        vertical-align: middle;\n",
       "    }\n",
       "\n",
       "    .dataframe tbody tr th {\n",
       "        vertical-align: top;\n",
       "    }\n",
       "\n",
       "    .dataframe thead tr th {\n",
       "        text-align: left;\n",
       "    }\n",
       "</style>\n",
       "<table border=\"1\" class=\"dataframe\">\n",
       "  <thead>\n",
       "    <tr>\n",
       "      <th></th>\n",
       "      <th></th>\n",
       "      <th colspan=\"2\" halign=\"left\">Bic</th>\n",
       "    </tr>\n",
       "    <tr>\n",
       "      <th></th>\n",
       "      <th></th>\n",
       "      <th>Not water</th>\n",
       "      <th>Water</th>\n",
       "    </tr>\n",
       "  </thead>\n",
       "  <tbody>\n",
       "    <tr>\n",
       "      <th rowspan=\"2\" valign=\"top\">HR</th>\n",
       "      <th>Not water</th>\n",
       "      <td>365929461.0</td>\n",
       "      <td>1530621.0</td>\n",
       "    </tr>\n",
       "    <tr>\n",
       "      <th>Water</th>\n",
       "      <td>2322429.0</td>\n",
       "      <td>120969489.0</td>\n",
       "    </tr>\n",
       "  </tbody>\n",
       "</table>\n",
       "</div>"
      ],
      "text/plain": [
       "                      Bic             \n",
       "                Not water        Water\n",
       "HR Not water  365929461.0    1530621.0\n",
       "   Water        2322429.0  120969489.0"
      ]
     },
     "metadata": {},
     "output_type": "display_data"
    },
    {
     "name": "stdout",
     "output_type": "stream",
     "text": [
      "Bic primed\n"
     ]
    },
    {
     "data": {
      "text/html": [
       "<div>\n",
       "<style scoped>\n",
       "    .dataframe tbody tr th:only-of-type {\n",
       "        vertical-align: middle;\n",
       "    }\n",
       "\n",
       "    .dataframe tbody tr th {\n",
       "        vertical-align: top;\n",
       "    }\n",
       "\n",
       "    .dataframe thead tr th {\n",
       "        text-align: left;\n",
       "    }\n",
       "</style>\n",
       "<table border=\"1\" class=\"dataframe\">\n",
       "  <thead>\n",
       "    <tr>\n",
       "      <th></th>\n",
       "      <th></th>\n",
       "      <th colspan=\"2\" halign=\"left\">Bic</th>\n",
       "    </tr>\n",
       "    <tr>\n",
       "      <th></th>\n",
       "      <th></th>\n",
       "      <th>Not water</th>\n",
       "      <th>Water</th>\n",
       "    </tr>\n",
       "  </thead>\n",
       "  <tbody>\n",
       "    <tr>\n",
       "      <th rowspan=\"2\" valign=\"top\">HR</th>\n",
       "      <th>Not water</th>\n",
       "      <td>365929461.0</td>\n",
       "      <td>1530621.0</td>\n",
       "    </tr>\n",
       "    <tr>\n",
       "      <th>Water</th>\n",
       "      <td>2322429.0</td>\n",
       "      <td>120969489.0</td>\n",
       "    </tr>\n",
       "  </tbody>\n",
       "</table>\n",
       "</div>"
      ],
      "text/plain": [
       "                      Bic             \n",
       "                Not water        Water\n",
       "HR Not water  365929461.0    1530621.0\n",
       "   Water        2322429.0  120969489.0"
      ]
     },
     "metadata": {},
     "output_type": "display_data"
    },
    {
     "name": "stdout",
     "output_type": "stream",
     "text": [
      "\n",
      "\n",
      "Confusion matrix (weighted) for: \n",
      "SR\n"
     ]
    },
    {
     "data": {
      "text/html": [
       "<div>\n",
       "<style scoped>\n",
       "    .dataframe tbody tr th:only-of-type {\n",
       "        vertical-align: middle;\n",
       "    }\n",
       "\n",
       "    .dataframe tbody tr th {\n",
       "        vertical-align: top;\n",
       "    }\n",
       "\n",
       "    .dataframe thead tr th {\n",
       "        text-align: left;\n",
       "    }\n",
       "</style>\n",
       "<table border=\"1\" class=\"dataframe\">\n",
       "  <thead>\n",
       "    <tr>\n",
       "      <th></th>\n",
       "      <th></th>\n",
       "      <th colspan=\"2\" halign=\"left\">SR</th>\n",
       "    </tr>\n",
       "    <tr>\n",
       "      <th></th>\n",
       "      <th></th>\n",
       "      <th>Not water</th>\n",
       "      <th>Water</th>\n",
       "    </tr>\n",
       "  </thead>\n",
       "  <tbody>\n",
       "    <tr>\n",
       "      <th rowspan=\"2\" valign=\"top\">HR</th>\n",
       "      <th>Not water</th>\n",
       "      <td>365482543.0</td>\n",
       "      <td>1977539.0</td>\n",
       "    </tr>\n",
       "    <tr>\n",
       "      <th>Water</th>\n",
       "      <td>1962410.0</td>\n",
       "      <td>121329508.0</td>\n",
       "    </tr>\n",
       "  </tbody>\n",
       "</table>\n",
       "</div>"
      ],
      "text/plain": [
       "                       SR             \n",
       "                Not water        Water\n",
       "HR Not water  365482543.0    1977539.0\n",
       "   Water        1962410.0  121329508.0"
      ]
     },
     "metadata": {},
     "output_type": "display_data"
    },
    {
     "name": "stdout",
     "output_type": "stream",
     "text": [
      "SR primed\n"
     ]
    },
    {
     "data": {
      "text/html": [
       "<div>\n",
       "<style scoped>\n",
       "    .dataframe tbody tr th:only-of-type {\n",
       "        vertical-align: middle;\n",
       "    }\n",
       "\n",
       "    .dataframe tbody tr th {\n",
       "        vertical-align: top;\n",
       "    }\n",
       "\n",
       "    .dataframe thead tr th {\n",
       "        text-align: left;\n",
       "    }\n",
       "</style>\n",
       "<table border=\"1\" class=\"dataframe\">\n",
       "  <thead>\n",
       "    <tr>\n",
       "      <th></th>\n",
       "      <th></th>\n",
       "      <th colspan=\"2\" halign=\"left\">SR</th>\n",
       "    </tr>\n",
       "    <tr>\n",
       "      <th></th>\n",
       "      <th></th>\n",
       "      <th>Not water</th>\n",
       "      <th>Water</th>\n",
       "    </tr>\n",
       "  </thead>\n",
       "  <tbody>\n",
       "    <tr>\n",
       "      <th rowspan=\"2\" valign=\"top\">HR</th>\n",
       "      <th>Not water</th>\n",
       "      <td>365482543.0</td>\n",
       "      <td>1977539.0</td>\n",
       "    </tr>\n",
       "    <tr>\n",
       "      <th>Water</th>\n",
       "      <td>1962410.0</td>\n",
       "      <td>121329508.0</td>\n",
       "    </tr>\n",
       "  </tbody>\n",
       "</table>\n",
       "</div>"
      ],
      "text/plain": [
       "                       SR             \n",
       "                Not water        Water\n",
       "HR Not water  365482543.0    1977539.0\n",
       "   Water        1962410.0  121329508.0"
      ]
     },
     "metadata": {},
     "output_type": "display_data"
    }
   ],
   "source": [
    "## display confusion matrix\n",
    "## Note: Actual confusion matrix is calculated in Excel spreadsheet on local: confusion_x10_local-masked_400000_updated.xlsx\n",
    "from IPython.display import display\n",
    "for res in ['Bic', 'SR']:\n",
    "    sum=df.query(\"res == @res\").sum()\n",
    "    CM_total=np.array([[sum.TN, sum.FP],[sum.FN, sum.TP]])\n",
    "    CM_p_total=np.array([[sum.TN_p, sum.FP_p],[sum.FN_p, sum.TP_p]])\n",
    "#     CM=CM_total/CM_total.sum()\n",
    "    CM=CM_total\n",
    "    CM_p=CM_p_total\n",
    "    # CM1=np.concatenate((CM, CM.sum(axis=1, keepdims=True)), axis=1) # not right...\n",
    "    print('\\n\\nConfusion matrix (weighted) for: ')\n",
    "    print(res)\n",
    "    # CM\n",
    "    cm=pd.DataFrame(CM,columns=[[res]*2,['Not water', 'Water']], index=[['HR']*2,['Not water', 'Water']])\n",
    "    cm_p=pd.DataFrame(CM_p,columns=[[res]*2,['Not water\\'', 'Water\\'']], index=[['HR']*2,['Not water\\'', 'Water\\'']])\n",
    "    display(cm)\n",
    "    print(res + ' primed')\n",
    "    display(cm)\n",
    "    cm.to_csv('CM_weighted_'+res+'.csv')\n",
    "    cm_p.to_csv('CM_p_weighted_'+res+'.csv')\n",
    "    "
   ]
  },
  {
   "cell_type": "markdown",
   "metadata": {},
   "source": [
    "## Weighted"
   ]
  },
  {
   "cell_type": "code",
   "execution_count": 18,
   "metadata": {},
   "outputs": [
    {
     "name": "stdout",
     "output_type": "stream",
     "text": [
      "\n",
      "\n",
      "Metrics for Bic\n"
     ]
    },
    {
     "data": {
      "text/plain": [
       "accuracy      0.992149\n",
       "accuracy_p    0.453289\n",
       "kappa         0.968239\n",
       "kappa_p      -0.062710\n",
       "JI            0.951896\n",
       "DSC           0.024557\n",
       "dtype: float64"
      ]
     },
     "metadata": {},
     "output_type": "display_data"
    },
    {
     "name": "stdout",
     "output_type": "stream",
     "text": [
      "\n",
      "\n",
      "Metrics for SR\n"
     ]
    },
    {
     "data": {
      "text/plain": [
       "accuracy      0.991972\n",
       "accuracy_p    0.546711\n",
       "kappa         0.969422\n",
       "kappa_p       0.071786\n",
       "JI            0.955343\n",
       "DSC           0.022849\n",
       "dtype: float64"
      ]
     },
     "metadata": {},
     "output_type": "display_data"
    }
   ],
   "source": [
    "## now compute weighted metrics\n",
    "for res in ['Bic', 'SR']:\n",
    "    mean=df.query(\"res == @res\").mean()\n",
    "    print('\\n\\nMetrics for ' + res)\n",
    "    met=mean.loc[['accuracy','accuracy_p','kappa','kappa_p', 'JI','DSC']]\n",
    "    display(met)\n",
    "    \n",
    "#     print(res + ' primed')\n",
    "#     display(cm)"
   ]
  },
  {
   "cell_type": "code",
   "execution_count": 19,
   "metadata": {},
   "outputs": [
    {
     "data": {
      "text/plain": [
       "0.9919716088778039"
      ]
     },
     "execution_count": 19,
     "metadata": {},
     "output_type": "execute_result"
    }
   ],
   "source": [
    "mean.accuracy"
   ]
  },
  {
   "cell_type": "code",
   "execution_count": 48,
   "metadata": {},
   "outputs": [
    {
     "data": {
      "text/plain": [
       "Unnamed: 0            0.000000\n",
       "num                1064.500000\n",
       "thresh                0.000000\n",
       "percent_water        25.093381\n",
       "mean_ndwi           179.488347\n",
       "median_ndwi         197.877700\n",
       "accuracy              0.992060\n",
       "accuracy_p            0.500000\n",
       "kappa                 0.968830\n",
       "kappa_p               0.004538\n",
       "min_ndwi             17.591197\n",
       "max_ndwi            254.094718\n",
       "JI                    0.953620\n",
       "DSC                   0.023703\n",
       "TP                56877.698826\n",
       "FN                 1005.830751\n",
       "FP                  823.511737\n",
       "TN               171692.958685\n",
       "TP_p                604.855164\n",
       "FN_p                604.855164\n",
       "FP_p                515.098592\n",
       "TN_p                515.098592\n",
       "dtype: float64"
      ]
     },
     "execution_count": 48,
     "metadata": {},
     "output_type": "execute_result"
    }
   ],
   "source": [
    "mean=df.mean()\n",
    "mean.kappa, mean.kappa_p\n",
    "dir(mean)\n",
    "mean\n",
    "# mean.shape\n",
    "# mean.loc[['kappa','kappa_p']]"
   ]
  },
  {
   "cell_type": "markdown",
   "metadata": {},
   "source": [
    "# Unweighted metrics"
   ]
  },
  {
   "cell_type": "code",
   "execution_count": 147,
   "metadata": {},
   "outputs": [
    {
     "name": "stdout",
     "output_type": "stream",
     "text": [
      "\n",
      "\n",
      "Confusion matrix (unweighted) for: \n",
      "Bic\n"
     ]
    },
    {
     "data": {
      "text/html": [
       "<div>\n",
       "<style scoped>\n",
       "    .dataframe tbody tr th:only-of-type {\n",
       "        vertical-align: middle;\n",
       "    }\n",
       "\n",
       "    .dataframe tbody tr th {\n",
       "        vertical-align: top;\n",
       "    }\n",
       "\n",
       "    .dataframe thead tr th {\n",
       "        text-align: left;\n",
       "    }\n",
       "</style>\n",
       "<table border=\"1\" class=\"dataframe\">\n",
       "  <thead>\n",
       "    <tr>\n",
       "      <th></th>\n",
       "      <th></th>\n",
       "      <th colspan=\"2\" halign=\"left\">Bic</th>\n",
       "    </tr>\n",
       "    <tr>\n",
       "      <th></th>\n",
       "      <th></th>\n",
       "      <th>Not water</th>\n",
       "      <th>Water</th>\n",
       "    </tr>\n",
       "  </thead>\n",
       "  <tbody>\n",
       "    <tr>\n",
       "      <th rowspan=\"2\" valign=\"top\">HR</th>\n",
       "      <th>Not water</th>\n",
       "      <td>171715.214386</td>\n",
       "      <td>719.614951</td>\n",
       "    </tr>\n",
       "    <tr>\n",
       "      <th>Water</th>\n",
       "      <td>1091.880113</td>\n",
       "      <td>56873.290550</td>\n",
       "    </tr>\n",
       "  </tbody>\n",
       "</table>\n",
       "</div>"
      ],
      "text/plain": [
       "                        Bic              \n",
       "                  Not water         Water\n",
       "HR Not water  171715.214386    719.614951\n",
       "   Water        1091.880113  56873.290550"
      ]
     },
     "metadata": {},
     "output_type": "display_data"
    },
    {
     "name": "stdout",
     "output_type": "stream",
     "text": [
      "Bic primed\n"
     ]
    },
    {
     "data": {
      "text/html": [
       "<div>\n",
       "<style scoped>\n",
       "    .dataframe tbody tr th:only-of-type {\n",
       "        vertical-align: middle;\n",
       "    }\n",
       "\n",
       "    .dataframe tbody tr th {\n",
       "        vertical-align: top;\n",
       "    }\n",
       "\n",
       "    .dataframe thead tr th {\n",
       "        text-align: left;\n",
       "    }\n",
       "</style>\n",
       "<table border=\"1\" class=\"dataframe\">\n",
       "  <thead>\n",
       "    <tr>\n",
       "      <th></th>\n",
       "      <th></th>\n",
       "      <th colspan=\"2\" halign=\"left\">Bic</th>\n",
       "    </tr>\n",
       "    <tr>\n",
       "      <th></th>\n",
       "      <th></th>\n",
       "      <th>Not water'</th>\n",
       "      <th>Water'</th>\n",
       "    </tr>\n",
       "  </thead>\n",
       "  <tbody>\n",
       "    <tr>\n",
       "      <th rowspan=\"2\" valign=\"top\">HR</th>\n",
       "      <th>Not water'</th>\n",
       "      <td>347.412426</td>\n",
       "      <td>230.426482</td>\n",
       "    </tr>\n",
       "    <tr>\n",
       "      <th>Water'</th>\n",
       "      <td>455.312651</td>\n",
       "      <td>221.146938</td>\n",
       "    </tr>\n",
       "  </tbody>\n",
       "</table>\n",
       "</div>"
      ],
      "text/plain": [
       "                      Bic            \n",
       "               Not water'      Water'\n",
       "HR Not water'  347.412426  230.426482\n",
       "   Water'      455.312651  221.146938"
      ]
     },
     "metadata": {},
     "output_type": "display_data"
    },
    {
     "name": "stdout",
     "output_type": "stream",
     "text": [
      "\n",
      "\n",
      "Confusion matrix (unweighted) for: \n",
      "SR\n"
     ]
    },
    {
     "data": {
      "text/html": [
       "<div>\n",
       "<style scoped>\n",
       "    .dataframe tbody tr th:only-of-type {\n",
       "        vertical-align: middle;\n",
       "    }\n",
       "\n",
       "    .dataframe tbody tr th {\n",
       "        vertical-align: top;\n",
       "    }\n",
       "\n",
       "    .dataframe thead tr th {\n",
       "        text-align: left;\n",
       "    }\n",
       "</style>\n",
       "<table border=\"1\" class=\"dataframe\">\n",
       "  <thead>\n",
       "    <tr>\n",
       "      <th></th>\n",
       "      <th></th>\n",
       "      <th colspan=\"2\" halign=\"left\">SR</th>\n",
       "    </tr>\n",
       "    <tr>\n",
       "      <th></th>\n",
       "      <th></th>\n",
       "      <th>Not water</th>\n",
       "      <th>Water</th>\n",
       "    </tr>\n",
       "  </thead>\n",
       "  <tbody>\n",
       "    <tr>\n",
       "      <th rowspan=\"2\" valign=\"top\">HR</th>\n",
       "      <th>Not water</th>\n",
       "      <td>171505.097790</td>\n",
       "      <td>929.731547</td>\n",
       "    </tr>\n",
       "    <tr>\n",
       "      <th>Water</th>\n",
       "      <td>922.618712</td>\n",
       "      <td>57042.551951</td>\n",
       "    </tr>\n",
       "  </tbody>\n",
       "</table>\n",
       "</div>"
      ],
      "text/plain": [
       "                         SR              \n",
       "                  Not water         Water\n",
       "HR Not water  171505.097790    929.731547\n",
       "   Water         922.618712  57042.551951"
      ]
     },
     "metadata": {},
     "output_type": "display_data"
    },
    {
     "name": "stdout",
     "output_type": "stream",
     "text": [
      "SR primed\n"
     ]
    },
    {
     "data": {
      "text/html": [
       "<div>\n",
       "<style scoped>\n",
       "    .dataframe tbody tr th:only-of-type {\n",
       "        vertical-align: middle;\n",
       "    }\n",
       "\n",
       "    .dataframe tbody tr th {\n",
       "        vertical-align: top;\n",
       "    }\n",
       "\n",
       "    .dataframe thead tr th {\n",
       "        text-align: left;\n",
       "    }\n",
       "</style>\n",
       "<table border=\"1\" class=\"dataframe\">\n",
       "  <thead>\n",
       "    <tr>\n",
       "      <th></th>\n",
       "      <th></th>\n",
       "      <th colspan=\"2\" halign=\"left\">SR</th>\n",
       "    </tr>\n",
       "    <tr>\n",
       "      <th></th>\n",
       "      <th></th>\n",
       "      <th>Not water'</th>\n",
       "      <th>Water'</th>\n",
       "    </tr>\n",
       "  </thead>\n",
       "  <tbody>\n",
       "    <tr>\n",
       "      <th rowspan=\"2\" valign=\"top\">HR</th>\n",
       "      <th>Not water'</th>\n",
       "      <td>230.426482</td>\n",
       "      <td>347.412426</td>\n",
       "    </tr>\n",
       "    <tr>\n",
       "      <th>Water'</th>\n",
       "      <td>221.146938</td>\n",
       "      <td>455.312651</td>\n",
       "    </tr>\n",
       "  </tbody>\n",
       "</table>\n",
       "</div>"
      ],
      "text/plain": [
       "                       SR            \n",
       "               Not water'      Water'\n",
       "HR Not water'  230.426482  347.412426\n",
       "   Water'      221.146938  455.312651"
      ]
     },
     "metadata": {},
     "output_type": "display_data"
    }
   ],
   "source": [
    "## display confusion matrix\n",
    "## Note: Actual confusion matrix is calculated in Excel spreadsheet on local: confusion_x10_local-masked_400000_updated.xlsx\n",
    "from IPython.display import display\n",
    "for res in ['Bic', 'SR']:\n",
    "    dff=df.query(\"res == @res\") # filtered\n",
    "    dff = dff[~np.isnan(dff.accuracy_p)] # filter out no nan accuracy_p\n",
    "    w=230400/(dff.TP_p+dff.TN_p+dff.FP_p+dff.FN_p) # weights\n",
    "#     w[w == np.inf]\n",
    "    mean=pd.Series()\n",
    "    \n",
    "    print('\\n\\nConfusion matrix (unweighted) for: ')\n",
    "    print(res)\n",
    "    \n",
    "    ## CM regular\n",
    "    mean.TN = np.average(dff.TN, axis=0)\n",
    "    mean.FP = np.average(dff.FP, axis=0)\n",
    "    mean.FN = np.average(dff.FN, axis=0)\n",
    "    mean.TP = np.average(dff.TP, axis=0)\n",
    "    CM=np.array([[mean.TN, mean.FP],[mean.FN, mean.TP]])             # means instead of means\n",
    "    cm=pd.DataFrame(CM,columns=[[res]*2,['Not water', 'Water']], index=[['HR']*2,['Not water', 'Water']])\n",
    "    \n",
    "    ## cm prime\n",
    "    mean.TN_p = np.average(dff.TN_p, axis=0, weights=w)\n",
    "    mean.FP_p = np.average(dff.FP_p, axis=0, weights=w)\n",
    "    mean.FN_p = np.average(dff.FN_p, axis=0, weights=w)\n",
    "    mean.TP_p = np.average(dff.TP_p, axis=0, weights=w)\n",
    "    CM_p=np.array([[mean.TN_p, mean.FP_p],[mean.FN_p, mean.TP_p]])    # means instead of sums\n",
    "    cm_p=pd.DataFrame(CM_p,columns=[[res]*2,['Not water\\'', 'Water\\'']], index=[['HR']*2,['Not water\\'', 'Water\\'']])\n",
    "    display(cm)\n",
    "    print(res + ' primed')\n",
    "    display(cm_p)\n",
    "    cm.to_csv('CM_unweighted_'+res+'.csv')\n",
    "    cm_p.to_csv('CM_p_unweighted_'+res+'.csv')"
   ]
  },
  {
   "cell_type": "code",
   "execution_count": 135,
   "metadata": {},
   "outputs": [
    {
     "data": {
      "text/plain": [
       "Unnamed: 0                                                 0\n",
       "num                                                       27\n",
       "name             20170710_181144_1034_3B_AnalyticMS_SR_s0100\n",
       "thresh                                                     0\n",
       "res                                                       SR\n",
       "percent_water                                              0\n",
       "mean_ndwi                                            211.964\n",
       "median_ndwi                                              213\n",
       "accuracy                                                   1\n",
       "accuracy_p                                               NaN\n",
       "kappa                                                    NaN\n",
       "kappa_p                                                  NaN\n",
       "min_ndwi                                                  27\n",
       "max_ndwi                                                 255\n",
       "JI                                                         0\n",
       "DSC                                                      NaN\n",
       "TP                                                         0\n",
       "FN                                                         0\n",
       "FP                                                         0\n",
       "TN                                                    230400\n",
       "TP_p                                                       0\n",
       "FN_p                                                       0\n",
       "FP_p                                                       0\n",
       "TN_p                                                       0\n",
       "Name: 108, dtype: object"
      ]
     },
     "execution_count": 135,
     "metadata": {},
     "output_type": "execute_result"
    }
   ],
   "source": [
    "np.average(dff.TN_p, axis=0, weights=w)\n",
    "dff.TN_p\n",
    "w.shape\n",
    "np.any(w == np.inf)\n",
    "np.where(w == np.inf)\n",
    "(w[w == np.inf]).index\n",
    "# w ==np.inf\n",
    "# dff.loc[27,:]\n",
    "# dff\n",
    "dff.loc[108,:]"
   ]
  },
  {
   "cell_type": "code",
   "execution_count": 146,
   "metadata": {},
   "outputs": [
    {
     "data": {
      "text/html": [
       "<div>\n",
       "<style scoped>\n",
       "    .dataframe tbody tr th:only-of-type {\n",
       "        vertical-align: middle;\n",
       "    }\n",
       "\n",
       "    .dataframe tbody tr th {\n",
       "        vertical-align: top;\n",
       "    }\n",
       "\n",
       "    .dataframe thead th {\n",
       "        text-align: right;\n",
       "    }\n",
       "</style>\n",
       "<table border=\"1\" class=\"dataframe\">\n",
       "  <thead>\n",
       "    <tr style=\"text-align: right;\">\n",
       "      <th></th>\n",
       "      <th>Unnamed: 0</th>\n",
       "      <th>num</th>\n",
       "      <th>name</th>\n",
       "      <th>thresh</th>\n",
       "      <th>res</th>\n",
       "      <th>percent_water</th>\n",
       "      <th>mean_ndwi</th>\n",
       "      <th>median_ndwi</th>\n",
       "      <th>accuracy</th>\n",
       "      <th>accuracy_p</th>\n",
       "      <th>kappa</th>\n",
       "      <th>kappa_p</th>\n",
       "      <th>min_ndwi</th>\n",
       "      <th>max_ndwi</th>\n",
       "      <th>JI</th>\n",
       "      <th>DSC</th>\n",
       "      <th>TP</th>\n",
       "      <th>FN</th>\n",
       "      <th>FP</th>\n",
       "      <th>TN</th>\n",
       "      <th>TP_p</th>\n",
       "      <th>FN_p</th>\n",
       "      <th>FP_p</th>\n",
       "      <th>TN_p</th>\n",
       "    </tr>\n",
       "  </thead>\n",
       "  <tbody>\n",
       "    <tr>\n",
       "      <th>108</th>\n",
       "      <td>0</td>\n",
       "      <td>27</td>\n",
       "      <td>20170710_181144_1034_3B_AnalyticMS_SR_s0100</td>\n",
       "      <td>0.0</td>\n",
       "      <td>SR</td>\n",
       "      <td>0.0</td>\n",
       "      <td>211.96436</td>\n",
       "      <td>213.0</td>\n",
       "      <td>1.0</td>\n",
       "      <td>NaN</td>\n",
       "      <td>NaN</td>\n",
       "      <td>NaN</td>\n",
       "      <td>27.0</td>\n",
       "      <td>255.0</td>\n",
       "      <td>0.0</td>\n",
       "      <td>NaN</td>\n",
       "      <td>0.0</td>\n",
       "      <td>0.0</td>\n",
       "      <td>0.0</td>\n",
       "      <td>230400.0</td>\n",
       "      <td>0.0</td>\n",
       "      <td>0.0</td>\n",
       "      <td>0.0</td>\n",
       "      <td>0.0</td>\n",
       "    </tr>\n",
       "    <tr>\n",
       "      <th>928</th>\n",
       "      <td>0</td>\n",
       "      <td>232</td>\n",
       "      <td>20170709_180724_1030_3B_AnalyticMS_SR_s0130</td>\n",
       "      <td>0.0</td>\n",
       "      <td>SR</td>\n",
       "      <td>0.0</td>\n",
       "      <td>238.12465</td>\n",
       "      <td>243.0</td>\n",
       "      <td>1.0</td>\n",
       "      <td>NaN</td>\n",
       "      <td>NaN</td>\n",
       "      <td>NaN</td>\n",
       "      <td>113.0</td>\n",
       "      <td>255.0</td>\n",
       "      <td>0.0</td>\n",
       "      <td>NaN</td>\n",
       "      <td>0.0</td>\n",
       "      <td>0.0</td>\n",
       "      <td>0.0</td>\n",
       "      <td>230400.0</td>\n",
       "      <td>0.0</td>\n",
       "      <td>0.0</td>\n",
       "      <td>0.0</td>\n",
       "      <td>0.0</td>\n",
       "    </tr>\n",
       "    <tr>\n",
       "      <th>3024</th>\n",
       "      <td>0</td>\n",
       "      <td>756</td>\n",
       "      <td>20170709_180724_1030_3B_AnalyticMS_SR_s0112</td>\n",
       "      <td>0.0</td>\n",
       "      <td>SR</td>\n",
       "      <td>0.0</td>\n",
       "      <td>228.57143</td>\n",
       "      <td>228.0</td>\n",
       "      <td>1.0</td>\n",
       "      <td>NaN</td>\n",
       "      <td>NaN</td>\n",
       "      <td>NaN</td>\n",
       "      <td>122.0</td>\n",
       "      <td>255.0</td>\n",
       "      <td>0.0</td>\n",
       "      <td>NaN</td>\n",
       "      <td>0.0</td>\n",
       "      <td>0.0</td>\n",
       "      <td>0.0</td>\n",
       "      <td>230400.0</td>\n",
       "      <td>0.0</td>\n",
       "      <td>0.0</td>\n",
       "      <td>0.0</td>\n",
       "      <td>0.0</td>\n",
       "    </tr>\n",
       "  </tbody>\n",
       "</table>\n",
       "</div>"
      ],
      "text/plain": [
       "      Unnamed: 0  num                                         name  thresh  \\\n",
       "108            0   27  20170710_181144_1034_3B_AnalyticMS_SR_s0100     0.0   \n",
       "928            0  232  20170709_180724_1030_3B_AnalyticMS_SR_s0130     0.0   \n",
       "3024           0  756  20170709_180724_1030_3B_AnalyticMS_SR_s0112     0.0   \n",
       "\n",
       "     res  percent_water  mean_ndwi  median_ndwi  accuracy  accuracy_p  kappa  \\\n",
       "108   SR            0.0  211.96436        213.0       1.0         NaN    NaN   \n",
       "928   SR            0.0  238.12465        243.0       1.0         NaN    NaN   \n",
       "3024  SR            0.0  228.57143        228.0       1.0         NaN    NaN   \n",
       "\n",
       "      kappa_p  min_ndwi  max_ndwi   JI  DSC   TP   FN   FP        TN  TP_p  \\\n",
       "108       NaN      27.0     255.0  0.0  NaN  0.0  0.0  0.0  230400.0   0.0   \n",
       "928       NaN     113.0     255.0  0.0  NaN  0.0  0.0  0.0  230400.0   0.0   \n",
       "3024      NaN     122.0     255.0  0.0  NaN  0.0  0.0  0.0  230400.0   0.0   \n",
       "\n",
       "      FN_p  FP_p  TN_p  \n",
       "108    0.0   0.0   0.0  \n",
       "928    0.0   0.0   0.0  \n",
       "3024   0.0   0.0   0.0  "
      ]
     },
     "execution_count": 146,
     "metadata": {},
     "output_type": "execute_result"
    }
   ],
   "source": [
    "w\n",
    "dff.TP_p+dff.TN_p+dff.FP_p+dff.FN_p\n",
    "dff.TP+dff.TN+dff.FP+dff.FN\n",
    "np.any(230400/w == np.inf)\n",
    "# np.histogram(pd.DataFrame(230400/w))\n",
    "# w\n",
    "# np.where( w == 0) \n",
    "df[df.accuracy_p == np.nan]\n",
    "dff[dff.accuracy_p == np.nan]\n",
    "np.isnan(dff.loc[108,:].accuracy_p)\n",
    "dff[~np.isnan(dff.accuracy_p)]\n",
    "dff[np.isnan(dff.accuracy_p)]"
   ]
  },
  {
   "cell_type": "code",
   "execution_count": 37,
   "metadata": {},
   "outputs": [
    {
     "data": {
      "text/plain": [
       "151213.88510801608"
      ]
     },
     "execution_count": 37,
     "metadata": {},
     "output_type": "execute_result"
    }
   ],
   "source": [
    "dff=df.query(\"res == @res\") # filtered\n",
    "np.average(dff.TN, axis=0, weights=dff.TP_p+dff.TN_p+dff.FP_p+dff.FN_p)\n",
    "# dff.TP_p+dff.TN_p+dff.FP_p+dff.FN_p"
   ]
  },
  {
   "cell_type": "code",
   "execution_count": 52,
   "metadata": {},
   "outputs": [
    {
     "data": {
      "text/plain": [
       "1"
      ]
     },
     "execution_count": 52,
     "metadata": {},
     "output_type": "execute_result"
    }
   ],
   "source": [
    "mean=pd.Series()\n",
    "mean.foo=1\n",
    "mean.doo=2\n",
    "mean.foo\n"
   ]
  },
  {
   "cell_type": "markdown",
   "metadata": {},
   "source": [
    "# Histograms"
   ]
  },
  {
   "cell_type": "code",
   "execution_count": 17,
   "metadata": {},
   "outputs": [
    {
     "data": {
      "image/png": "[encoded data removed]",
      "text/plain": [
       "<Figure size 576x360 with 1 Axes>"
      ]
     },
     "metadata": {
      "needs_background": "light"
     },
     "output_type": "display_data"
    }
   ],
   "source": [
    "# Density Plot and Histogram # from https://towardsdatascience.com/histograms-and-density-plots-in-python-f6bda88f5ac0\n",
    "\n",
    "## options\n",
    "fs=15 # font\n",
    "a=0.75 # alpha\n",
    "\n",
    "## Density plot\n",
    "fig, ax = plt.subplots(1, 1, figsize=(8, 5), constrained_layout=True)\n",
    "sns.distplot(df.query(\"res == 'Bic'\").JI, hist=False, kde=True, ax=ax, label='Bic',\n",
    "             bins=int(180/5), color = '#B07F3E', \n",
    "             hist_kws={'edgecolor':'#B07F3E'},\n",
    "             kde_kws={'linewidth': 2, 'shade':'True'})\n",
    "sns.distplot(df.query(\"res == 'SR'\").JI, hist=False, kde=True, ax=ax, label='SR',\n",
    "             bins=int(180/5), color = '#6BCAD0', \n",
    "             hist_kws={'edgecolor':'#6BCAD0'},\n",
    "             kde_kws={'linewidth': 2, 'shade':'True'})\n",
    "\n",
    "    # look nice\n",
    "# ax.legend(fontsize=fs)\n",
    "plt.legend(prop={'size': 16}, title = 'Airline')\n",
    "plt.yticks(fontsize=fs)\n",
    "plt.xticks(fontsize=fs)\n",
    "ax.legend(loc=\"upper left\", fontsize=fs)\n",
    "ax.set_xlabel('Jaccard Index', fontsize=fs)\n",
    "ax.set_ylabel('Density', fontsize=fs)\n",
    "\n",
    "    # save\n",
    "fig.savefig(os.path.join(plots_dir, 'plot_hist_JI_kde1.png'), dpi=300)"
   ]
  },
  {
   "cell_type": "code",
   "execution_count": 15,
   "metadata": {},
   "outputs": [
    {
     "data": {
      "image/png": "[encoded data removed]",
      "text/plain": [
       "<Figure size 576x360 with 1 Axes>"
      ]
     },
     "metadata": {
      "needs_background": "light"
     },
     "output_type": "display_data"
    }
   ],
   "source": [
    "# Density Plot and Histogram # from https://towardsdatascience.com/histograms-and-density-plots-in-python-f6bda88f5ac0\n",
    "\n",
    "## options\n",
    "fs=15 # font\n",
    "a=0.75 # alpha\n",
    "\n",
    "## Density plot\n",
    "fig, ax = plt.subplots(1, 1, figsize=(8, 5), constrained_layout=True)\n",
    "sns.distplot(df.query(\"res == 'Bic'\").kappa_p, hist=False, kde=True, ax=ax, label='Bic',\n",
    "             bins=int(180/5), color = '#B07F3E', \n",
    "             hist_kws={'edgecolor':'#B07F3E'},\n",
    "             kde_kws={'linewidth': 2, 'shade':'True'})\n",
    "sns.distplot(df.query(\"res == 'SR'\").kappa_p, hist=False, kde=True, ax=ax, label='SR',\n",
    "             bins=int(180/5), color = '#6BCAD0', \n",
    "             hist_kws={'edgecolor':'#6BCAD0'},\n",
    "             kde_kws={'linewidth': 2, 'shade':'True'})\n",
    "\n",
    "    # look nice\n",
    "# ax.legend(fontsize=fs)\n",
    "plt.legend(prop={'size': 16}, title = 'Airline')\n",
    "plt.yticks(fontsize=fs)\n",
    "plt.xticks(fontsize=fs)\n",
    "ax.legend(loc=\"upper right\", fontsize=fs)\n",
    "ax.set_xlabel('Kappa\\'', fontsize=fs)\n",
    "ax.set_ylabel('Density', fontsize=fs)\n",
    "\n",
    "    # save\n",
    "fig.savefig(os.path.join(plots_dir, 'plot_hist_kappa_p_kde1.png'), dpi=300)"
   ]
  }
 ],
 "metadata": {
  "kernelspec": {
   "display_name": "Python 3",
   "language": "python",
   "name": "python3"
  },
  "language_info": {
   "codemirror_mode": {
    "name": "ipython",
    "version": 3
   },
   "file_extension": ".py",
   "mimetype": "text/x-python",
   "name": "python",
   "nbconvert_exporter": "python",
   "pygments_lexer": "ipython3",
   "version": "3.7.3"
  }
 },
 "nbformat": 4,
 "nbformat_minor": 4
}
