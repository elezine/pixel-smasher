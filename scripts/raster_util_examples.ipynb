{
 "cells": [
  {
   "cell_type": "code",
   "execution_count": 65,
   "id": "d3989538-a0f8-4485-958d-5d5fe8191a33",
   "metadata": {},
   "outputs": [],
   "source": [
    "import cv2\n",
    "import mmcv\n",
    "import numpy as np\n",
    "import os\n",
    "import sys\n",
    "from multiprocessing import Pool\n",
    "from os import path as osp\n",
    "import glob as gl\n",
    "import matplotlib.pyplot as plt\n",
    "import rasterio as rio\n",
    "from rasterio.merge import merge\n",
    "import glob as gl\n",
    "from osgeo import gdal,ogr,osr,gdalconst\n",
    "from affine import Affine\n",
    "from skimage import exposure\n",
    "from skimage.util import img_as_ubyte\n",
    "import fiona\n",
    "import rasterio\n",
    "import rasterio.mask\n",
    "from rasterio.windows import Window\n",
    "from rasterio.features import bounds\n",
    "from rasterio.transform import rowcol\n",
    "import math\n",
    "import geopandas as gpd\n",
    "from shapely.geometry import mapping\n",
    "from shapely.geometry import box\n",
    "from raster_util import *"
   ]
  },
  {
   "cell_type": "markdown",
   "id": "daebf6eb-833e-45de-96e3-841ed7d6012d",
   "metadata": {},
   "source": [
    "Planet - green, red, nir\n",
    "<br>\n",
    "Corresponds to bands 3,4,5 of landsat (g,r,nir)"
   ]
  },
  {
   "cell_type": "markdown",
   "id": "d157ae90-3e31-40fd-b3ca-5127fa84b9bb",
   "metadata": {},
   "source": [
    "First, save Landsat as a single image with band order green, red, nir:"
   ]
  },
  {
   "cell_type": "code",
   "execution_count": null,
   "id": "65aa9fd6-1c9b-4d61-9c18-27cb4797ff11",
   "metadata": {},
   "outputs": [],
   "source": [
    "im_folder = r'D:\\Data\\Landsat_Imagery\\landsat_example_landsat8l1g_analytic\\files\\Landsat8L1G\\LC80460162020236LGN00\\analytic'"
   ]
  },
  {
   "cell_type": "code",
   "execution_count": null,
   "id": "899bd029-cb2a-4d28-b414-0dd6221cdee9",
   "metadata": {},
   "outputs": [],
   "source": [
    "stack_tif(im_folder, 'landsat_subset_test/landsat.tif', band_order = [3,4,5])"
   ]
  },
  {
   "cell_type": "markdown",
   "id": "fb3d7c8c-455c-4f12-a27a-2d61e41fe1c9",
   "metadata": {},
   "source": [
    "Then, chunk the landsat into tiles of size 48, with overlap:"
   ]
  },
  {
   "cell_type": "code",
   "execution_count": null,
   "id": "f447acfd-fd96-4b14-ab04-5cb43f822010",
   "metadata": {},
   "outputs": [],
   "source": [
    "chunk_tif('landsat_subset_test/landsat.tif', 48, 'D:/Data/Landsat_Imagery/for_esrgan/subsets/tifs/')"
   ]
  },
  {
   "cell_type": "markdown",
   "id": "58e3047b-e25f-43db-99e7-661505dda517",
   "metadata": {},
   "source": [
    "Rescale the reflectance of these images and convert them to pngs (this function does it all at once...):"
   ]
  },
  {
   "cell_type": "code",
   "execution_count": null,
   "id": "3d728ee4-cc4f-4ac1-ad84-974a9938fae6",
   "metadata": {},
   "outputs": [],
   "source": [
    "save_as_pngs('D:/Data/Landsat_Imagery/for_esrgan/subsets/tifs/', 'D:/Data/Landsat_Imagery/for_esrgan/subsets/pngs_5p_stretch/')"
   ]
  },
  {
   "cell_type": "markdown",
   "id": "480830e3-1e65-4a71-b0db-4f76089eabab",
   "metadata": {},
   "source": [
    "Now you run these chunked pngs through ESRGAN!"
   ]
  },
  {
   "cell_type": "markdown",
   "id": "bfeefdbc-861a-4073-8042-a11786e74e1b",
   "metadata": {},
   "source": [
    "---"
   ]
  },
  {
   "cell_type": "markdown",
   "id": "4bb670c4-fe57-42c3-a112-788d3cffaf3f",
   "metadata": {},
   "source": [
    "Once you have output pngs from ESRGAN, you must turn them into tifs with associated spatial information:"
   ]
  },
  {
   "cell_type": "code",
   "execution_count": null,
   "id": "d44ac367-0b7b-494a-9522-f7865393c5f6",
   "metadata": {},
   "outputs": [],
   "source": [
    "make_tifs_pngs(r'C:\\Users\\elezine\\OneDrive\\Academics\\Research\\Brown\\code\\github reps\\super-resolution\\pixel-smasher\\results\\Landsat_Test\\visualization\\landsat_test', r'D:\\Data\\Landsat_Imagery\\for_esrgan\\subsets\\tifs', r'D:\\Data\\Landsat_Imagery\\for_esrgan\\subsets\\sr_tifs_5p_stretch')"
   ]
  },
  {
   "cell_type": "markdown",
   "id": "4ca73217-3069-4404-ad4b-087afc3658e0",
   "metadata": {},
   "source": [
    "After doing that, you will want to crop the super resolved images to fix edge effects..."
   ]
  },
  {
   "cell_type": "code",
   "execution_count": null,
   "id": "11a7dbb6-0bb5-4016-8b1c-ec8da3606f19",
   "metadata": {},
   "outputs": [],
   "source": [
    "crop_tifs(r'D:\\Data\\Landsat_Imagery\\for_esrgan\\subsets\\sr_tifs_5p_stretch\\\\', 120, 0)"
   ]
  },
  {
   "cell_type": "markdown",
   "id": "3a110921-d98b-4b37-9213-741602c049c0",
   "metadata": {},
   "source": [
    "And then merge together some of these tifs that intersect with some bounding box (defined by a shpfile):"
   ]
  },
  {
   "cell_type": "code",
   "execution_count": 63,
   "id": "93e25d2c-329e-4041-8582-413c66ecf3fa",
   "metadata": {},
   "outputs": [],
   "source": [
    "folder_path = r'D:\\Data\\Landsat_Imagery\\for_esrgan\\subsets\\sr_tifs_5p_stretch\\\\'\n",
    "shpfile_path = r'D:\\Data\\Planet_Imagery\\comp_psscene4band_analytic_sr_udm2\\files\\PSScene4Band\\20200823_184406_0f34\\analytic_sr_udm2\\extent_shpfile.shp'\n",
    "shape_file = gpd.read_file(shpfile_path)"
   ]
  },
  {
   "cell_type": "markdown",
   "id": "2dd11da8-8b77-452a-ab46-7e3855e32a83",
   "metadata": {},
   "source": [
    "This finds any files that intersect with a bounding box:"
   ]
  },
  {
   "cell_type": "code",
   "execution_count": null,
   "id": "8dba4239-1564-460f-87cf-099e8c4560ee",
   "metadata": {},
   "outputs": [],
   "source": [
    "intersections = []\n",
    "\n",
    "tifs = gl.glob(folder_path + '/*.tif')\n",
    "tif_list_inter = []\n",
    "tif_list = []\n",
    "for tif in tifs[7000:15000]:\n",
    "    src = rio.open(tif)\n",
    "    shape_file_reproj = shape_file.to_crs(src.crs)\n",
    "\n",
    "    bounds = src.bounds\n",
    "    geom = box(*bounds)\n",
    "    \n",
    "    df = gpd.GeoDataFrame({\"id\":1,\"geometry\":[geom]}, crs= 'epsg:32612')\n",
    "    \n",
    "    if df.intersects(shape_file_reproj).values[0]:\n",
    "        print('intersection')\n",
    "        intersections.append(tif)"
   ]
  },
  {
   "cell_type": "markdown",
   "id": "84d3e378-6dde-42e2-ba06-424b332f99da",
   "metadata": {},
   "source": [
    "This merges those images:"
   ]
  },
  {
   "cell_type": "code",
   "execution_count": 53,
   "id": "07322416-3bfc-4acb-88ac-4c43cbd473d2",
   "metadata": {},
   "outputs": [],
   "source": [
    "tif_list = []\n",
    "for tif in intersections:\n",
    "    tif_list.append(rio.open(tif))\n",
    "\n",
    "img, transform = merge(tif_list)"
   ]
  },
  {
   "cell_type": "markdown",
   "id": "2ae2febc-ba12-4b95-bfb8-56715aef8539",
   "metadata": {},
   "source": [
    "This saves those merged images:"
   ]
  },
  {
   "cell_type": "code",
   "execution_count": 62,
   "id": "254c3b45-6f9f-4444-9c11-399e40b2ad8a",
   "metadata": {},
   "outputs": [],
   "source": [
    "profile = tif_list[0].profile\n",
    "profile.update({'transform':transform})\n",
    "profile.update({'width':img.shape[2], 'height':img.shape[1]})\n",
    "profile.update({'dtype':'uint8'})\n",
    "\n",
    "with rio.open(r'D:\\Data\\Landsat_Imagery\\for_esrgan\\merged.tif', \"w\", **profile) as dest:\n",
    "    dest.write(img)"
   ]
  }
 ],
 "metadata": {
  "kernelspec": {
   "display_name": "Python 3",
   "language": "python",
   "name": "python3"
  },
  "language_info": {
   "codemirror_mode": {
    "name": "ipython",
    "version": 3
   },
   "file_extension": ".py",
   "mimetype": "text/x-python",
   "name": "python",
   "nbconvert_exporter": "python",
   "pygments_lexer": "ipython3",
   "version": "3.8.5"
  }
 },
 "nbformat": 4,
 "nbformat_minor": 5
}
